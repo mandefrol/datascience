{
    "cells": [
        {
            "metadata": {},
            "cell_type": "markdown",
            "source": "Description\nThis is my first notebook"
        },
        {
            "metadata": {},
            "cell_type": "code",
            "source": "import numpy as np",
            "execution_count": 1,
            "outputs": []
        },
        {
            "metadata": {},
            "cell_type": "code",
            "source": "numbers = np.random.randint(10,91,15)\nnumbers",
            "execution_count": 2,
            "outputs": [
                {
                    "output_type": "execute_result",
                    "execution_count": 2,
                    "data": {
                        "text/plain": "array([86, 14, 29, 60, 38, 22, 46, 37, 76, 63, 24, 83, 55, 82, 31])"
                    },
                    "metadata": {}
                }
            ]
        }
    ],
    "metadata": {
        "kernelspec": {
            "name": "python3",
            "display_name": "Python 3.9",
            "language": "python"
        },
        "language_info": {
            "name": "python",
            "version": "3.9.7",
            "mimetype": "text/x-python",
            "codemirror_mode": {
                "name": "ipython",
                "version": 3
            },
            "pygments_lexer": "ipython3",
            "nbconvert_exporter": "python",
            "file_extension": ".py"
        }
    },
    "nbformat": 4,
    "nbformat_minor": 1
}